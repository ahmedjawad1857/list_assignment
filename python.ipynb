{
 "cells": [
  {
   "cell_type": "markdown",
   "metadata": {},
   "source": [
    "# List Assignments"
   ]
  },
  {
   "cell_type": "markdown",
   "metadata": {},
   "source": [
    "## All List Methods"
   ]
  },
  {
   "cell_type": "code",
   "execution_count": 31,
   "metadata": {},
   "outputs": [
    {
     "data": {
      "text/plain": [
       "['append',\n",
       " 'clear',\n",
       " 'copy',\n",
       " 'count',\n",
       " 'extend',\n",
       " 'index',\n",
       " 'insert',\n",
       " 'pop',\n",
       " 'remove',\n",
       " 'reverse',\n",
       " 'sort']"
      ]
     },
     "execution_count": 31,
     "metadata": {},
     "output_type": "execute_result"
    }
   ],
   "source": [
    "# All List Methods\n",
    "[i for i in dir(list) if \"__\" not in i]"
   ]
  },
  {
   "cell_type": "markdown",
   "metadata": {},
   "source": [
    "### 1. Write a python script to read and print elements of List.\n"
   ]
  },
  {
   "cell_type": "code",
   "execution_count": 32,
   "metadata": {},
   "outputs": [
    {
     "name": "stdout",
     "output_type": "stream",
     "text": [
      "Element of List: Apple\n",
      "Element of List: Banana\n",
      "Element of List: Kiwi\n",
      "Element of List: Mango\n"
     ]
    }
   ],
   "source": [
    "# 1. Write a python script to read and print elements of List.\n",
    "l1:list[str] = [\"Apple\",\"Banana\",\"Kiwi\",\"Mango\"]\n",
    "for i in l1:\n",
    "    print(f\"Element of List: {i}\")"
   ]
  },
  {
   "cell_type": "markdown",
   "metadata": {},
   "source": [
    "### 2. Write a python script to print all negative elements in an List.\n"
   ]
  },
  {
   "cell_type": "code",
   "execution_count": 33,
   "metadata": {},
   "outputs": [
    {
     "name": "stdout",
     "output_type": "stream",
     "text": [
      "Negative Element: -2\n",
      "Negative Element: -4\n",
      "Negative Element: -6\n"
     ]
    }
   ],
   "source": [
    "# 2. Write a python script to print all negative elements in an List.\n",
    "l1:list[int] = [1,-2,3,-4,5,-6]\n",
    "for i in l1:\n",
    "    if i < 0:\n",
    "        print(f\"Negative Element: {i}\")"
   ]
  },
  {
   "cell_type": "markdown",
   "metadata": {},
   "source": [
    "### 3. Write a python script to find sum of all List elements.\n"
   ]
  },
  {
   "cell_type": "code",
   "execution_count": 34,
   "metadata": {},
   "outputs": [
    {
     "name": "stdout",
     "output_type": "stream",
     "text": [
      "Elements Of List: [1, -2, 3, -4, 5, 6]\n",
      "Sum of List elements: 9\n"
     ]
    }
   ],
   "source": [
    "# 3. Write a python script to find sum of all List elements.\n",
    "l1:list[int] = [1,-2,3,-4,5,6]\n",
    "sum_of_list:int = sum(l1)\n",
    "print(f\"Elements Of List: {l1}\")\n",
    "print(f\"Sum of List elements: {sum_of_list}\")\n"
   ]
  },
  {
   "cell_type": "markdown",
   "metadata": {},
   "source": [
    "### 4. Write a python script to find maximum and minimum element in an List.\n"
   ]
  },
  {
   "cell_type": "code",
   "execution_count": 35,
   "metadata": {},
   "outputs": [
    {
     "name": "stdout",
     "output_type": "stream",
     "text": [
      "This is the list :[1, -2, 3, -4, 5, 6]\n",
      "Max Element of this list : 6\n",
      "Min Element of this list : -4\n"
     ]
    }
   ],
   "source": [
    "# 4. Write a python script to find maximum and minimum element in an List.\n",
    "l1:list[int] = [1,-2,3,-4,5,6]\n",
    "max_element:int = max(l1)\n",
    "min_element:int = min(l1)\n",
    "print(f\"This is the list :{l1}\")\n",
    "print(f\"Max Element of this list : {max_element}\")\n",
    "print(f\"Min Element of this list : {min_element}\")"
   ]
  },
  {
   "cell_type": "markdown",
   "metadata": {},
   "source": [
    "### The Above Program Is Also Written in another method"
   ]
  },
  {
   "cell_type": "code",
   "execution_count": 36,
   "metadata": {},
   "outputs": [
    {
     "name": "stdout",
     "output_type": "stream",
     "text": [
      "This is the list :[1, -2, 3, -4, 5, 6]\n",
      "Max Element of this list : 6\n",
      "Min Element of this list : -4\n"
     ]
    }
   ],
   "source": [
    "l1:list[int] = [1,-2,3,-4,5,6]\n",
    "max_element:int = l1[0]\n",
    "min_element:int = l1[1]\n",
    "for i in l1:\n",
    "    if i > max_element:\n",
    "        max_element = i\n",
    "    if i < min_element:\n",
    "        min_element = i\n",
    "print(f\"This is the list :{l1}\")\n",
    "print(f\"Max Element of this list : {max_element}\")\n",
    "print(f\"Min Element of this list : {min_element}\")        \n",
    "        "
   ]
  },
  {
   "cell_type": "markdown",
   "metadata": {},
   "source": [
    "### 5. Write a python script to find second largest element in an List.\n"
   ]
  },
  {
   "cell_type": "code",
   "execution_count": 37,
   "metadata": {},
   "outputs": [
    {
     "name": "stdout",
     "output_type": "stream",
     "text": [
      "Second largest element: 5\n",
      "Second smallest element: -2\n"
     ]
    }
   ],
   "source": [
    "# 5. Write a python script to find second largest and smallest element in an List.\n",
    "l1:list[int] = [1,-2,3,-4,5,6]\n",
    "largest:int =  l1[0]\n",
    "smallest:int = l1[0]\n",
    "second_largest:int = l1[1]\n",
    "second_smallest:int = l1[1]\n",
    "for num in l1:\n",
    "    if num > largest:\n",
    "        second_largest = largest\n",
    "        largest = num\n",
    "    elif num > second_largest:\n",
    "        second_largest = num\n",
    "    if num < smallest:\n",
    "        second_smallest = smallest\n",
    "        smallest = num\n",
    "    elif num < second_smallest:\n",
    "        second_smallest = num    \n",
    "\n",
    "print(f\"Second largest element: {second_largest}\")\n",
    "print(f\"Second smallest element: {second_smallest}\")"
   ]
  },
  {
   "cell_type": "markdown",
   "metadata": {},
   "source": [
    "### Another Method to solve the above problem is as follows:"
   ]
  },
  {
   "cell_type": "code",
   "execution_count": 38,
   "metadata": {},
   "outputs": [
    {
     "name": "stdout",
     "output_type": "stream",
     "text": [
      "Second largest element: 5\n",
      "Second smallest element: -2\n"
     ]
    }
   ],
   "source": [
    "l1:list[int] = [1,-2,3,-4,5,6]\n",
    "\n",
    "# Sort the list in ascending order\n",
    "sorted_list = sorted(l1)\n",
    "\n",
    "# Find the second largest element\n",
    "second_largest = sorted_list[-2]\n",
    "\n",
    "# Find the second minimum element\n",
    "second_smallest = sorted_list[1]\n",
    "\n",
    "print(f\"Second largest element: {second_largest}\")\n",
    "print(f\"Second smallest element: {second_smallest}\")\n"
   ]
  },
  {
   "cell_type": "markdown",
   "metadata": {},
   "source": [
    "### 6. Write a python script to count total number of even and odd elements in an List.\n"
   ]
  },
  {
   "cell_type": "code",
   "execution_count": 39,
   "metadata": {},
   "outputs": [
    {
     "name": "stdout",
     "output_type": "stream",
     "text": [
      "This is the list [1, 2, 0, 3, 4, 5, 6, 10, 30, 0, 14, 45, -10]\n",
      "The Total odd number in this list is 4\n",
      "The Total even number in this list is 6\n",
      "The Total zeros in this list is 2\n",
      "The Total negative number in this list is 1\n"
     ]
    }
   ],
   "source": [
    "# 6. Write a python script to count total number of even, odd, zero and negative elements in an List.\n",
    "l1:list[int] = [1,2,0,3,4,5,6,10,30,0,14,45,-10]\n",
    "odd_count:int = 0\n",
    "even_count:int = 0\n",
    "zeros_count:int = 0\n",
    "negative_count:int = 0\n",
    "for num in l1:\n",
    "    \n",
    "    if num == 0:\n",
    "        zeros_count += 1   \n",
    "    elif num < 0:\n",
    "        negative_count += 1\n",
    "    elif num % 2 == 0:\n",
    "        even_count += 1    \n",
    "    else:\n",
    "       odd_count += 1\n",
    "print(f\"This is the list {l1}\")                \n",
    "print(f\"The Total odd number in this list is {odd_count}\")\n",
    "print(f\"The Total even number in this list is {even_count}\")\n",
    "print(f\"The Total zeros in this list is {zeros_count}\")\n",
    "print(f\"The Total negative number in this list is {negative_count}\")"
   ]
  },
  {
   "cell_type": "markdown",
   "metadata": {},
   "source": [
    "### 7. Write a python script to copy all elements from an List to another List.\n"
   ]
  },
  {
   "cell_type": "code",
   "execution_count": 40,
   "metadata": {},
   "outputs": [
    {
     "name": "stdout",
     "output_type": "stream",
     "text": [
      "List copied  with 'copy()' method: ['Apple', 'Banana', 'Kiwi', 'Mango']\n",
      "List copied  without 'copy()' method: ['Apple', 'Banana', 'Kiwi', 'Mango', 'Orange']\n"
     ]
    }
   ],
   "source": [
    "# 7. Write a python script to copy all elements from an List to another List.\n",
    "l1:list[str] = [\"Apple\",\"Banana\",\"Kiwi\",\"Mango\"]\n",
    "copied_list: list[str] = l1.copy() # If I don't use copy() then when I edit original_list the copied_list also changed\n",
    "l2:list[str] = l1 \n",
    "l1.append(\"Orange\")\n",
    "\n",
    "print(f\"List copied  with 'copy()' method: {copied_list}\")\n",
    "print(f\"List copied  without 'copy()' method: {l2}\")"
   ]
  },
  {
   "cell_type": "markdown",
   "metadata": {},
   "source": [
    "### 8. Write a python script to insert an element in an List.\n"
   ]
  },
  {
   "cell_type": "code",
   "execution_count": 41,
   "metadata": {},
   "outputs": [
    {
     "name": "stdout",
     "output_type": "stream",
     "text": [
      "Original List: ['Apple', 'Banana', 'Kiwi', 'Mango']\n",
      "List after inseting an element at second index(insert method add element at specific index): ['Apple', 'Banana', 'Orange', 'Kiwi', 'Mango']\n",
      "List after appending an element(append method add element at end of the list): ['Apple', 'Banana', 'Orange', 'Kiwi', 'Mango', 'Grape']\n"
     ]
    }
   ],
   "source": [
    "# 8. Write a python script to insert an element in an List.\n",
    "l1:list[str] = [\"Apple\",\"Banana\",\"Kiwi\",\"Mango\"]\n",
    "print(f\"Original List: {l1}\")\n",
    "l1.insert(2,\"Orange\") # it is used to add element at specific index\n",
    "print(f\"List after inseting an element at second index(insert method add element at specific index): {l1}\")\n",
    "l1.append(\"Grape\") # It is used to add element at last of the list\n",
    "print(f\"List after appending an element(append method add element at end of the list): {l1}\")\n"
   ]
  },
  {
   "cell_type": "markdown",
   "metadata": {},
   "source": [
    "### 9. Write a python script to delete an element from an List at specified position.\n"
   ]
  },
  {
   "cell_type": "code",
   "execution_count": 42,
   "metadata": {},
   "outputs": [
    {
     "name": "stdout",
     "output_type": "stream",
     "text": [
      "Original List: ['Apple', 'Banana', 'Kiwi', 'Mango']\n",
      "List after deleting an element at second index: ['Apple', 'Banana', 'Mango']\n"
     ]
    }
   ],
   "source": [
    "# 9. Write a python script to delete an element from an List at specified position.\n",
    "l1:list[str] = [\"Apple\",\"Banana\",\"Kiwi\",\"Mango\"]\n",
    "print(f\"Original List: {l1}\")\n",
    "l1.pop(2)\n",
    "print(f\"List after deleting an element at second index: {l1}\")"
   ]
  },
  {
   "cell_type": "markdown",
   "metadata": {},
   "source": [
    "### 10. Write a python script to count frequency of each element in an List.\n"
   ]
  },
  {
   "cell_type": "code",
   "execution_count": 43,
   "metadata": {},
   "outputs": [
    {
     "name": "stdout",
     "output_type": "stream",
     "text": [
      "{'Apple': 1, 'Banana': 2, 'Kiwi': 1, 'Mango': 1}\n"
     ]
    }
   ],
   "source": [
    "# # 10. Write a python script to count frequency of each element in an List.\n",
    "l1:list[str] = [\"Apple\",\"Banana\",\"Kiwi\",\"Mango\",\"Banana\"]\n",
    "count:dict[str,int] = {}\n",
    "for i in l1:\n",
    "  if i in count:\n",
    "     count[i] += 1\n",
    "  else:\n",
    "      count[i] = 1   \n",
    "        \n",
    "print(count)        "
   ]
  },
  {
   "cell_type": "markdown",
   "metadata": {},
   "source": [
    "### 11. Write a python script to print all unique elements in the List.\n"
   ]
  },
  {
   "cell_type": "code",
   "execution_count": 44,
   "metadata": {},
   "outputs": [
    {
     "name": "stdout",
     "output_type": "stream",
     "text": [
      "Original list: ['Apple', 'Banana', 'Kiwi', 'Mango', 'Banana']\n",
      "Unique list: ['Apple', 'Banana', 'Kiwi', 'Mango']\n"
     ]
    }
   ],
   "source": [
    "# 11. Write a python script to print all unique elements in the List.\n",
    "\n",
    "l1:list[str] = [\"Apple\",\"Banana\",\"Kiwi\",\"Mango\",\"Banana\"]\n",
    "unique_elements:list[str] = []\n",
    "for i in l1:\n",
    "    if i not in unique_elements:\n",
    "        unique_elements.append(i)\n",
    "print(f\"Original list: {l1}\")            \n",
    "print(f\"Unique list: {unique_elements}\")            \n"
   ]
  },
  {
   "cell_type": "markdown",
   "metadata": {},
   "source": [
    "### 12. Write a python script to count total number of duplicate elements in an List.\n"
   ]
  },
  {
   "cell_type": "code",
   "execution_count": 45,
   "metadata": {},
   "outputs": [
    {
     "name": "stdout",
     "output_type": "stream",
     "text": [
      "Total duplicate count = 3\n"
     ]
    }
   ],
   "source": [
    "# 12. Write a python script to count total number of duplicate elements in an List.\n",
    "my_list = [1, 2, 3, 4, 2, 3, 5,8,8]\n",
    "duplicate_count = 0\n",
    "for i in range(len(my_list)):\n",
    "    for j in range(i + 1, len(my_list)):\n",
    "        if my_list[i] == my_list[j]:\n",
    "            duplicate_count += 1\n",
    "            break  # Break to avoid counting the same duplicate multiple times\n",
    "\n",
    "print(f\"Total duplicate count = {duplicate_count}\")"
   ]
  },
  {
   "cell_type": "markdown",
   "metadata": {},
   "source": [
    "### 13. Write a python script to delete all duplicate elements from an List.\n"
   ]
  },
  {
   "cell_type": "code",
   "execution_count": 46,
   "metadata": {},
   "outputs": [
    {
     "name": "stdout",
     "output_type": "stream",
     "text": [
      "List before deleting duplicates ['Apple', 'Banana', 'Kiwi', 'Mango', 'Banana']\n",
      "List after deleting duplicates ['Apple', 'Banana', 'Kiwi', 'Mango']\n"
     ]
    }
   ],
   "source": [
    "# 13. Write a python script to delete all duplicate elements from an List.\n",
    "l1:list[str] = [\"Apple\",\"Banana\",\"Kiwi\",\"Mango\",\"Banana\"]\n",
    "unique_elements:list[str] = []\n",
    "for i in l1:\n",
    "    if i not in unique_elements:\n",
    "        unique_elements.append(i)\n",
    "            \n",
    "print(f\"List before deleting duplicates {l1}\")            \n",
    "print(f\"List after deleting duplicates {unique_elements}\")            "
   ]
  },
  {
   "cell_type": "markdown",
   "metadata": {},
   "source": [
    "### 14. Write a python script to merge two List to third List.\n"
   ]
  },
  {
   "cell_type": "code",
   "execution_count": 47,
   "metadata": {},
   "outputs": [
    {
     "name": "stdout",
     "output_type": "stream",
     "text": [
      "List One : ['Apple', 'Grape', 'Mango']\n",
      "List Two : ['Banana', 'Melon', 'Orange']\n",
      "Merge of two lists : ['Apple', 'Grape', 'Mango', 'Banana', 'Melon', 'Orange']\n"
     ]
    }
   ],
   "source": [
    "# 14. Write a python script to merge two List to third List.\n",
    "l1:list[str] = [\"Apple\",\"Grape\",\"Mango\"]\n",
    "l2:list[str] = [\"Banana\",\"Melon\",\"Orange\"]\n",
    "l3:list[str] = l1+l2\n",
    "print(f\"List One : {l1}\")\n",
    "print(f\"List Two : {l2}\")\n",
    "print(f\"Merge of two lists : {l3}\")\n"
   ]
  },
  {
   "cell_type": "markdown",
   "metadata": {},
   "source": [
    "### 15. Write a python script to find reverse of an List.\n"
   ]
  },
  {
   "cell_type": "code",
   "execution_count": 48,
   "metadata": {},
   "outputs": [
    {
     "name": "stdout",
     "output_type": "stream",
     "text": [
      "Orignal List: ['Apple', 'Banana', 'Kiwi', 'Mango', 'Orange']\n",
      "Reversed List: ['Orange', 'Mango', 'Kiwi', 'Banana', 'Apple']\n"
     ]
    }
   ],
   "source": [
    "# 15. Write a python script to find reverse of an List.\n",
    "l1:list[str] = [\"Apple\",\"Banana\",\"Kiwi\",\"Mango\",\"Orange\"]\n",
    "reversed_list:list[str] = list(reversed(l1))\n",
    "print(f\"Orignal List: {l1}\")\n",
    "print(f\"Reversed List: {reversed_list}\")"
   ]
  },
  {
   "cell_type": "markdown",
   "metadata": {},
   "source": [
    "### without storing a reverse list in an other variable and solve the same problem"
   ]
  },
  {
   "cell_type": "code",
   "execution_count": 49,
   "metadata": {},
   "outputs": [
    {
     "name": "stdout",
     "output_type": "stream",
     "text": [
      "Orignal List: ['Apple', 'Banana', 'Kiwi', 'Mango', 'Orange']\n",
      "Reversed List: ['Orange', 'Mango', 'Kiwi', 'Banana', 'Apple']\n"
     ]
    }
   ],
   "source": [
    "l1:list[str] = [\"Apple\",\"Banana\",\"Kiwi\",\"Mango\",\"Orange\"]\n",
    "\n",
    "print(f\"Orignal List: {l1}\")\n",
    "l1.reverse()\n",
    "print(f\"Reversed List: {l1}\")"
   ]
  },
  {
   "cell_type": "markdown",
   "metadata": {},
   "source": [
    "### Another way to solve the above problem"
   ]
  },
  {
   "cell_type": "code",
   "execution_count": 50,
   "metadata": {},
   "outputs": [
    {
     "name": "stdout",
     "output_type": "stream",
     "text": [
      "Orignal List: ['Apple', 'Banana', 'Kiwi', 'Mango', 'Orange']\n",
      "Reversed List: ['Orange', 'Mango', 'Kiwi', 'Banana', 'Apple']\n"
     ]
    }
   ],
   "source": [
    "# 15. Write a python script to find reverse of an List.\n",
    "l1:list[str] = [\"Apple\",\"Banana\",\"Kiwi\",\"Mango\",\"Orange\"]\n",
    "reversed_list:list[str] = l1[::-1]\n",
    "print(f\"Orignal List: {l1}\")\n",
    "print(f\"Reversed List: {reversed_list}\")"
   ]
  },
  {
   "cell_type": "markdown",
   "metadata": {},
   "source": [
    "### 16. Write a python script to put even and odd elements of List in two separate List.\n"
   ]
  },
  {
   "cell_type": "code",
   "execution_count": 51,
   "metadata": {},
   "outputs": [
    {
     "name": "stdout",
     "output_type": "stream",
     "text": [
      "Original List: [1, 2, 3, 4, 5, 6, 7, 0, 9, -9]\n",
      "Odd number List: [1, 3, 5, 7, 9]\n",
      "Even List: [2, 4, 6]\n"
     ]
    }
   ],
   "source": [
    "# 16. Write a python script to put even and odd elements of List in two separate List.\n",
    "l1:list[int] = [1,2,3,4,5,6,7,0,9,-9]\n",
    "odd_list:list[int] = []\n",
    "even_list:list[int] = []\n",
    "for i in l1:\n",
    "    if i == 0 or i < 0:\n",
    "        pass\n",
    "    elif i % 2 == 0:\n",
    "        even_list.append(i)\n",
    "    else:\n",
    "        odd_list.append(i)\n",
    "            \n",
    "print(f\"Original List: {l1}\")\n",
    "print(f\"Odd number List: {odd_list}\")\n",
    "print(f\"Even List: {even_list}\")"
   ]
  },
  {
   "cell_type": "markdown",
   "metadata": {},
   "source": [
    "### 17. Write a python script to search an element in an List.\n"
   ]
  },
  {
   "cell_type": "code",
   "execution_count": 52,
   "metadata": {},
   "outputs": [
    {
     "name": "stdout",
     "output_type": "stream",
     "text": [
      "The element apple is found at index 6\n"
     ]
    }
   ],
   "source": [
    "from typing import Union\n",
    "\n",
    "l1: list[Union[int, str]] = [1, 2, 3, 4, 2, 3, \"Apple\"]\n",
    "search: Union[int, str] = input(\"Enter Your Search: \")\n",
    "indices: list[int] = [i for i, x in enumerate(l1) if str(x).lower() == search.lower()]\n",
    "if indices:\n",
    "    print(f\"The element {search.lower()} is found at index {', '.join(map(str, indices))}\")\n",
    "else:\n",
    "    print(f\"The element {search.lower()} is not found.\")\n"
   ]
  },
  {
   "cell_type": "markdown",
   "metadata": {},
   "source": [
    "### 18. Write a python script to sort List elements in ascending or descending order.\n"
   ]
  },
  {
   "cell_type": "code",
   "execution_count": 53,
   "metadata": {},
   "outputs": [
    {
     "name": "stdout",
     "output_type": "stream",
     "text": [
      "Original List [1, 2, 3, 4, 6, 9, 5]\n",
      "Descending List [9, 6, 5, 4, 3, 2, 1]\n",
      "Ascending List [1, 2, 3, 4, 5, 6, 9]\n"
     ]
    }
   ],
   "source": [
    "#18. Write a python script to sort List elements in ascending or descending order.\n",
    "l1: list[int] = [1, 2, 3, 4,6,9, 5]\n",
    "ascending_list : list[int] = sorted(l1)\n",
    "descending_list : list[int] = sorted(l1,reverse=True)\n",
    "\n",
    "print(f\"Original List {l1}\")\n",
    "print(f\"Descending List {descending_list}\")\n",
    "print(f\"Ascending List {ascending_list}\")\n"
   ]
  },
  {
   "cell_type": "markdown",
   "metadata": {},
   "source": [
    "### 19. Write a python script to sort even and odd elements of List separately.\n",
    "\n"
   ]
  },
  {
   "cell_type": "code",
   "execution_count": 54,
   "metadata": {},
   "outputs": [
    {
     "name": "stdout",
     "output_type": "stream",
     "text": [
      "Original List [1, 2, 3, 4, 6, 9, 5, 0, -8]\n",
      "Even List [2, 4, 6]\n",
      "Odd List [1, 3, 5, 9]\n"
     ]
    }
   ],
   "source": [
    "# 19. Write a python script to sort even and odd elements of List separately.\n",
    "\n",
    "l1: list[int] = [1, 2, 3, 4,6,9,5,0,-8]\n",
    "odd_list : list[int] = sorted([x for x in l1 if x%2!=0 and x > 0])\n",
    "even_list : list[int] = sorted([x for x in l1 if x%2==0 and x > 0 and x != 0])\n",
    "\n",
    "print(f\"Original List {l1}\")\n",
    "print(f\"Even List {even_list}\")\n",
    "print(f\"Odd List {odd_list}\")\n"
   ]
  },
  {
   "cell_type": "markdown",
   "metadata": {},
   "source": [
    "### 20. Write a python script to left rotate an List.\n"
   ]
  },
  {
   "cell_type": "code",
   "execution_count": 56,
   "metadata": {},
   "outputs": [
    {
     "name": "stdout",
     "output_type": "stream",
     "text": [
      "Original list: [1, 2, 3, 4, 5]\n",
      "Left rotated by 3 positions: [4, 5, 1, 2, 3]\n"
     ]
    }
   ],
   "source": [
    "# 20. Write a python script to left rotate an List.\n",
    "my_list = [1, 2, 3, 4, 5]\n",
    "rotate_by = 3\n",
    "rotate_by %= len(my_list)\n",
    "rotated_list = my_list[rotate_by:] + my_list[:rotate_by]\n",
    "print(\"Original list:\", my_list)\n",
    "print(f\"Left rotated by {rotate_by} positions:\", rotated_list)"
   ]
  },
  {
   "cell_type": "code",
   "execution_count": 62,
   "metadata": {},
   "outputs": [
    {
     "name": "stdout",
     "output_type": "stream",
     "text": [
      "Original list: [1, 2, 3, 4, 5]\n",
      "Right rotated by 1 positions: [5, 1, 2, 3, 4]\n"
     ]
    }
   ],
   "source": [
    "# 21. Write a python script to right rotate an List.\n",
    "my_list = [1, 2, 3, 4, 5]\n",
    "rotate_by = 1\n",
    "rotate_by %= len(my_list)\n",
    "rotated_list = my_list[-rotate_by:] + my_list[:-rotate_by]\n",
    "print(\"Original list:\", my_list)\n",
    "print(f\"Right rotated by {rotate_by} positions:\", rotated_list)\n"
   ]
  }
 ],
 "metadata": {
  "kernelspec": {
   "display_name": "python12",
   "language": "python",
   "name": "python3"
  },
  "language_info": {
   "codemirror_mode": {
    "name": "ipython",
    "version": 3
   },
   "file_extension": ".py",
   "mimetype": "text/x-python",
   "name": "python",
   "nbconvert_exporter": "python",
   "pygments_lexer": "ipython3",
   "version": "3.12.0"
  }
 },
 "nbformat": 4,
 "nbformat_minor": 2
}
